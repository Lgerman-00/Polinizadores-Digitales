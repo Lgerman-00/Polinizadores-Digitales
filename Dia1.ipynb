{
 "cells": [
  {
   "cell_type": "markdown",
   "id": "e69709be",
   "metadata": {},
   "source": [
    "ãlpha y beta amplitudes de prob. el ket phi es la suma de los ket 0,1 por $\\alpha$ $\\beta$, respectivamente. $\\alpha$, $\\beta$ e C y se cumple que $\\alpha^2$+$\\beta^2$ = 1 \n",
    "\n",
    "Pr(0) = |$\\alpha$|^2 = \n",
    "\n",
    "Pr(1) = |$\\beta$|^2 = \n",
    "\n",
    "|psi> se usa para obtener la informacion de todo el sistema\n",
    "\n",
    "\n",
    "Ejemplos de estados cuanticos \n",
    "|x;+> = 1/$\\sqrt{2}$ [1;1]        sus probabilidades siempre sean 1, puesto que dependen de la operacion modulo al cuadrado. Aqui el vecto es un complejo\n",
    "\n",
    "$|x;->$ = 1/$\\sqrt{2}$ [1;-1]\n",
    "\n",
    "Para normalizar estados cuanticos no es mas que normalizar el vector que los compone, al resultado de su modulo al cuadrado le sacamos la raiz y lo ponemos de cte en la ecuacion original\n"
   ]
  },
  {
   "cell_type": "markdown",
   "id": "3d8f1c99",
   "metadata": {},
   "source": []
  },
  {
   "cell_type": "code",
   "execution_count": 2,
   "id": "4b1d3f86",
   "metadata": {},
   "outputs": [],
   "source": [
    "from qiskit import QuantumRegister\n",
    "\n",
    "qubit1 = QuantumRegister(1)         # el parámetro indica cuántos qubits queremos\n",
    "\n",
    "qubit2 = QuantumRegister(1, 'qreg') # se puede indicar un nombre al registro cuántico (parámetro opcional)"
   ]
  },
  {
   "cell_type": "code",
   "execution_count": 3,
   "id": "08f11b1e",
   "metadata": {},
   "outputs": [
    {
     "name": "stdout",
     "output_type": "stream",
     "text": [
      "QuantumRegister(1, 'q0')\n",
      "QuantumRegister(1, 'qreg')\n"
     ]
    }
   ],
   "source": [
    "print(qubit1) # al no especificar el nombre, le asigna uno con una numeración consecutiva\n",
    "print(qubit2)"
   ]
  },
  {
   "cell_type": "code",
   "execution_count": 4,
   "id": "6c24ae74",
   "metadata": {},
   "outputs": [
    {
     "data": {
      "image/png": "[encoded data removed]",
      "text/plain": [
       "<Figure size 161.676x117.056 with 1 Axes>"
      ]
     },
     "execution_count": 4,
     "metadata": {},
     "output_type": "execute_result"
    }
   ],
   "source": [
    "from qiskit import QuantumCircuit\n",
    "\n",
    "circuit = QuantumCircuit(qubit1) # crear un circuito cuántico con un qubit\n",
    "\n",
    "circuit.draw('mpl')              # mostramos la representación gráfica del circuito"
   ]
  },
  {
   "cell_type": "code",
   "execution_count": 5,
   "id": "0851deaf",
   "metadata": {},
   "outputs": [
    {
     "data": {
      "image/png": "[encoded data removed]",
      "text/plain": [
       "<Figure size 538.33x367.889 with 1 Axes>"
      ]
     },
     "execution_count": 5,
     "metadata": {},
     "output_type": "execute_result"
    }
   ],
   "source": [
    "circ = QuantumCircuit(3, 2) # circuito con 3 qubits y 2 bits clásicos\n",
    "\n",
    "circ.h(0)           # aplicar compuerta H al qubit 0\n",
    "circ.cx(0, 1)       # aplicar compuerta CNOT a los qubits 0 y 1\n",
    "circ.cx(0, 2)       # aplicar compuerta CNOT a los qubits 0 y 2\n",
    "circ.measure(0, 1)  # medir el qubit 0 en el bit clásico 1\n",
    "circ.measure(2, 0)  # medir el qubit 2 en el bit clásico 0\n",
    "\n",
    "circ.draw('mpl')    # mostrar el circuito"
   ]
  }
 ],
 "metadata": {
  "kernelspec": {
   "display_name": "base",
   "language": "python",
   "name": "python3"
  },
  "language_info": {
   "codemirror_mode": {
    "name": "ipython",
    "version": 3
   },
   "file_extension": ".py",
   "mimetype": "text/x-python",
   "name": "python",
   "nbconvert_exporter": "python",
   "pygments_lexer": "ipython3",
   "version": "3.13.5"
  }
 },
 "nbformat": 4,
 "nbformat_minor": 5
}
